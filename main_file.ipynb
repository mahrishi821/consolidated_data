{
  "cells": [
    {
      "cell_type": "markdown",
      "metadata": {
        "id": "74951a79"
      },
      "source": [
        "**Introduction**"
      ],
      "id": "74951a79"
    },
    {
      "cell_type": "markdown",
      "metadata": {
        "id": "dc532149"
      },
      "source": [
        "The dataset we are analyzing contains information about various cryptocurrencies. The data includes the ‘Currency’ name, ‘Date’, ‘Open’, ‘High’, ‘Low’, ‘Close’ prices, ‘Volume’, and ‘Market Cap’. The ‘Currency’ column is of String type, ‘Date’ is of Date type, and the remaining columns are of float type. The unique currencies in the dataset are ‘tezos’, ‘binance-coin’, ‘eos’, ‘bitcoin’, ‘tether’, ‘xrp’, ‘bitcoin-cash’, ‘stellar’, ‘litecoin’, ‘ethereum’, ‘cardano’, and ‘bitcoin-sv’.\n",
        "Objectives of the Exploratory Data Analysis (EDA) The main objectives of this EDA are to:\n",
        "\n",
        "1.\tUnderstand the structure and distribution of the data.\n",
        "2.\tIdentify any patterns or trends in the cryptocurrency prices.\n",
        "3.\tAnalyze the relationship between different variables such as ‘Open’, ‘High’, ‘Low’, ‘Close’ prices, ‘Volume’, and ‘Market Cap’.\n",
        "4.\tProvide insights that could potentially help in forecasting future prices\n",
        "\n",
        "The data source is a comprehensive dataset of the historical prices of various cryptocurrencies. The context of this analysis is to understand the dynamics of cryptocurrency prices, which are known to be highly volatile. This analysis could be useful for anyone interested in cryptocurrency trading, investment, or research. It’s important to note that while historical price trends can provide useful insights, they are not a guarantee of future performance due to the inherent volatility and unpredictability of cryptocurrency markets\n",
        "\n",
        "\n"
      ],
      "id": "dc532149"
    },
    {
      "cell_type": "markdown",
      "metadata": {
        "id": "5337f84d"
      },
      "source": [
        "**Libraries used**"
      ],
      "id": "5337f84d"
    },
    {
      "cell_type": "code",
      "execution_count": null,
      "metadata": {
        "id": "a36a90cd"
      },
      "outputs": [],
      "source": [
        "import pandas as pd\n",
        "import numpy as np\n",
        "import matplotlib.pyplot  as plt"
      ],
      "id": "a36a90cd"
    },
    {
      "cell_type": "markdown",
      "metadata": {
        "id": "68c2ebbe"
      },
      "source": [
        "1.\tPandas (import pandas as pd)\n",
        "-\tPandas is a popular data manipulation library in Python.\n",
        "-\tIt provides data structures like DataFrames and Series, which are powerful tools for working with structured data.\n",
        "-\tDataFrames are used to store and manipulate tabular data, similar to spreadsheets or SQL tables.\n",
        "-\tThe `pd` alias is a common convention for referring to Pandas in code.\n",
        "\n",
        "2.\tNumPy (import numpy as np)\n",
        "-\tNumPy is a fundamental library for numerical and mathematical operations in Python.\n",
        "-\tIt provides support for arrays and matrices, which are efficient data structures for numerical computations.\n",
        "-\tNumPy is often used in combination with Pandas for handling and processing numerical data.\n",
        "-\tThe `np` alias is a common convention for referring to NumPy in code.\n",
        "\n",
        "3.\tMatplotlib (import matplotlib.pyplot as plt)\n",
        "\n",
        "-\tMatplotlib is a popular plotting library for creating static, interactive, and animated visualizations in Python.\n",
        "-\tThe `pyplot` module from Matplotlib is commonly used for creating basic plots like line plots, scatter plots, bar plots, and more.\n",
        "-\tThe `plt` alias is a common convention for referring to Matplotlib's `pyplot` module.\n",
        "\n",
        "4.\tSeaborn (import seaborn as sns)\n",
        "-\tSeaborn is a high-level data visualization library based on Matplotlib.\n",
        "-\tIt provides a simpler and more aesthetically pleasing interface for creating statistical graphics.\n",
        "-\tSeaborn is particularly useful for creating complex visualizations with minimal code.\n",
        "-\tThe `sns` alias is a common convention for referring to Seaborn in code.\n"
      ],
      "id": "68c2ebbe"
    },
    {
      "cell_type": "markdown",
      "metadata": {
        "id": "0fe1a448"
      },
      "source": [
        "**Data Description**"
      ],
      "id": "0fe1a448"
    },
    {
      "cell_type": "code",
      "execution_count": null,
      "metadata": {
        "id": "54e79b92"
      },
      "outputs": [],
      "source": [
        "#load the dataset in df\n",
        "df=pd.read_csv('consolidated_coin_data.csv')"
      ],
      "id": "54e79b92"
    },
    {
      "cell_type": "code",
      "execution_count": null,
      "metadata": {
        "colab": {
          "base_uri": "https://localhost:8080/",
          "height": 206
        },
        "id": "1a004970",
        "outputId": "069a688c-e2bf-4c90-d21f-6ae708589c1d"
      },
      "outputs": [
        {
          "output_type": "execute_result",
          "data": {
            "text/plain": [
              "  Currency          Date  Open  High   Low Close      Volume   Market Cap\n",
              "0    tezos  Dec 04, 2019  1.29  1.32  1.25  1.25  46,048,752  824,588,509\n",
              "1    tezos  Dec 03, 2019  1.24  1.32  1.21  1.29  41,462,224  853,213,342\n",
              "2    tezos  Dec 02, 2019  1.25  1.26  1.20  1.24  27,574,097  817,872,179\n",
              "3    tezos  Dec 01, 2019  1.33  1.34  1.25  1.25  24,127,567  828,296,390\n",
              "4    tezos  Nov 30, 2019  1.31  1.37  1.31  1.33  28,706,667  879,181,680"
            ],
            "text/html": [
              "\n",
              "  <div id=\"df-5e2dd20f-f258-42cb-9174-45c9b6d8a5f1\" class=\"colab-df-container\">\n",
              "    <div>\n",
              "<style scoped>\n",
              "    .dataframe tbody tr th:only-of-type {\n",
              "        vertical-align: middle;\n",
              "    }\n",
              "\n",
              "    .dataframe tbody tr th {\n",
              "        vertical-align: top;\n",
              "    }\n",
              "\n",
              "    .dataframe thead th {\n",
              "        text-align: right;\n",
              "    }\n",
              "</style>\n",
              "<table border=\"1\" class=\"dataframe\">\n",
              "  <thead>\n",
              "    <tr style=\"text-align: right;\">\n",
              "      <th></th>\n",
              "      <th>Currency</th>\n",
              "      <th>Date</th>\n",
              "      <th>Open</th>\n",
              "      <th>High</th>\n",
              "      <th>Low</th>\n",
              "      <th>Close</th>\n",
              "      <th>Volume</th>\n",
              "      <th>Market Cap</th>\n",
              "    </tr>\n",
              "  </thead>\n",
              "  <tbody>\n",
              "    <tr>\n",
              "      <th>0</th>\n",
              "      <td>tezos</td>\n",
              "      <td>Dec 04, 2019</td>\n",
              "      <td>1.29</td>\n",
              "      <td>1.32</td>\n",
              "      <td>1.25</td>\n",
              "      <td>1.25</td>\n",
              "      <td>46,048,752</td>\n",
              "      <td>824,588,509</td>\n",
              "    </tr>\n",
              "    <tr>\n",
              "      <th>1</th>\n",
              "      <td>tezos</td>\n",
              "      <td>Dec 03, 2019</td>\n",
              "      <td>1.24</td>\n",
              "      <td>1.32</td>\n",
              "      <td>1.21</td>\n",
              "      <td>1.29</td>\n",
              "      <td>41,462,224</td>\n",
              "      <td>853,213,342</td>\n",
              "    </tr>\n",
              "    <tr>\n",
              "      <th>2</th>\n",
              "      <td>tezos</td>\n",
              "      <td>Dec 02, 2019</td>\n",
              "      <td>1.25</td>\n",
              "      <td>1.26</td>\n",
              "      <td>1.20</td>\n",
              "      <td>1.24</td>\n",
              "      <td>27,574,097</td>\n",
              "      <td>817,872,179</td>\n",
              "    </tr>\n",
              "    <tr>\n",
              "      <th>3</th>\n",
              "      <td>tezos</td>\n",
              "      <td>Dec 01, 2019</td>\n",
              "      <td>1.33</td>\n",
              "      <td>1.34</td>\n",
              "      <td>1.25</td>\n",
              "      <td>1.25</td>\n",
              "      <td>24,127,567</td>\n",
              "      <td>828,296,390</td>\n",
              "    </tr>\n",
              "    <tr>\n",
              "      <th>4</th>\n",
              "      <td>tezos</td>\n",
              "      <td>Nov 30, 2019</td>\n",
              "      <td>1.31</td>\n",
              "      <td>1.37</td>\n",
              "      <td>1.31</td>\n",
              "      <td>1.33</td>\n",
              "      <td>28,706,667</td>\n",
              "      <td>879,181,680</td>\n",
              "    </tr>\n",
              "  </tbody>\n",
              "</table>\n",
              "</div>\n",
              "    <div class=\"colab-df-buttons\">\n",
              "\n",
              "  <div class=\"colab-df-container\">\n",
              "    <button class=\"colab-df-convert\" onclick=\"convertToInteractive('df-5e2dd20f-f258-42cb-9174-45c9b6d8a5f1')\"\n",
              "            title=\"Convert this dataframe to an interactive table.\"\n",
              "            style=\"display:none;\">\n",
              "\n",
              "  <svg xmlns=\"http://www.w3.org/2000/svg\" height=\"24px\" viewBox=\"0 -960 960 960\">\n",
              "    <path d=\"M120-120v-720h720v720H120Zm60-500h600v-160H180v160Zm220 220h160v-160H400v160Zm0 220h160v-160H400v160ZM180-400h160v-160H180v160Zm440 0h160v-160H620v160ZM180-180h160v-160H180v160Zm440 0h160v-160H620v160Z\"/>\n",
              "  </svg>\n",
              "    </button>\n",
              "\n",
              "  <style>\n",
              "    .colab-df-container {\n",
              "      display:flex;\n",
              "      gap: 12px;\n",
              "    }\n",
              "\n",
              "    .colab-df-convert {\n",
              "      background-color: #E8F0FE;\n",
              "      border: none;\n",
              "      border-radius: 50%;\n",
              "      cursor: pointer;\n",
              "      display: none;\n",
              "      fill: #1967D2;\n",
              "      height: 32px;\n",
              "      padding: 0 0 0 0;\n",
              "      width: 32px;\n",
              "    }\n",
              "\n",
              "    .colab-df-convert:hover {\n",
              "      background-color: #E2EBFA;\n",
              "      box-shadow: 0px 1px 2px rgba(60, 64, 67, 0.3), 0px 1px 3px 1px rgba(60, 64, 67, 0.15);\n",
              "      fill: #174EA6;\n",
              "    }\n",
              "\n",
              "    .colab-df-buttons div {\n",
              "      margin-bottom: 4px;\n",
              "    }\n",
              "\n",
              "    [theme=dark] .colab-df-convert {\n",
              "      background-color: #3B4455;\n",
              "      fill: #D2E3FC;\n",
              "    }\n",
              "\n",
              "    [theme=dark] .colab-df-convert:hover {\n",
              "      background-color: #434B5C;\n",
              "      box-shadow: 0px 1px 3px 1px rgba(0, 0, 0, 0.15);\n",
              "      filter: drop-shadow(0px 1px 2px rgba(0, 0, 0, 0.3));\n",
              "      fill: #FFFFFF;\n",
              "    }\n",
              "  </style>\n",
              "\n",
              "    <script>\n",
              "      const buttonEl =\n",
              "        document.querySelector('#df-5e2dd20f-f258-42cb-9174-45c9b6d8a5f1 button.colab-df-convert');\n",
              "      buttonEl.style.display =\n",
              "        google.colab.kernel.accessAllowed ? 'block' : 'none';\n",
              "\n",
              "      async function convertToInteractive(key) {\n",
              "        const element = document.querySelector('#df-5e2dd20f-f258-42cb-9174-45c9b6d8a5f1');\n",
              "        const dataTable =\n",
              "          await google.colab.kernel.invokeFunction('convertToInteractive',\n",
              "                                                    [key], {});\n",
              "        if (!dataTable) return;\n",
              "\n",
              "        const docLinkHtml = 'Like what you see? Visit the ' +\n",
              "          '<a target=\"_blank\" href=https://colab.research.google.com/notebooks/data_table.ipynb>data table notebook</a>'\n",
              "          + ' to learn more about interactive tables.';\n",
              "        element.innerHTML = '';\n",
              "        dataTable['output_type'] = 'display_data';\n",
              "        await google.colab.output.renderOutput(dataTable, element);\n",
              "        const docLink = document.createElement('div');\n",
              "        docLink.innerHTML = docLinkHtml;\n",
              "        element.appendChild(docLink);\n",
              "      }\n",
              "    </script>\n",
              "  </div>\n",
              "\n",
              "\n",
              "<div id=\"df-c20be9e0-8066-4779-a44d-4b8cbfc6429c\">\n",
              "  <button class=\"colab-df-quickchart\" onclick=\"quickchart('df-c20be9e0-8066-4779-a44d-4b8cbfc6429c')\"\n",
              "            title=\"Suggest charts\"\n",
              "            style=\"display:none;\">\n",
              "\n",
              "<svg xmlns=\"http://www.w3.org/2000/svg\" height=\"24px\"viewBox=\"0 0 24 24\"\n",
              "     width=\"24px\">\n",
              "    <g>\n",
              "        <path d=\"M19 3H5c-1.1 0-2 .9-2 2v14c0 1.1.9 2 2 2h14c1.1 0 2-.9 2-2V5c0-1.1-.9-2-2-2zM9 17H7v-7h2v7zm4 0h-2V7h2v10zm4 0h-2v-4h2v4z\"/>\n",
              "    </g>\n",
              "</svg>\n",
              "  </button>\n",
              "\n",
              "<style>\n",
              "  .colab-df-quickchart {\n",
              "      --bg-color: #E8F0FE;\n",
              "      --fill-color: #1967D2;\n",
              "      --hover-bg-color: #E2EBFA;\n",
              "      --hover-fill-color: #174EA6;\n",
              "      --disabled-fill-color: #AAA;\n",
              "      --disabled-bg-color: #DDD;\n",
              "  }\n",
              "\n",
              "  [theme=dark] .colab-df-quickchart {\n",
              "      --bg-color: #3B4455;\n",
              "      --fill-color: #D2E3FC;\n",
              "      --hover-bg-color: #434B5C;\n",
              "      --hover-fill-color: #FFFFFF;\n",
              "      --disabled-bg-color: #3B4455;\n",
              "      --disabled-fill-color: #666;\n",
              "  }\n",
              "\n",
              "  .colab-df-quickchart {\n",
              "    background-color: var(--bg-color);\n",
              "    border: none;\n",
              "    border-radius: 50%;\n",
              "    cursor: pointer;\n",
              "    display: none;\n",
              "    fill: var(--fill-color);\n",
              "    height: 32px;\n",
              "    padding: 0;\n",
              "    width: 32px;\n",
              "  }\n",
              "\n",
              "  .colab-df-quickchart:hover {\n",
              "    background-color: var(--hover-bg-color);\n",
              "    box-shadow: 0 1px 2px rgba(60, 64, 67, 0.3), 0 1px 3px 1px rgba(60, 64, 67, 0.15);\n",
              "    fill: var(--button-hover-fill-color);\n",
              "  }\n",
              "\n",
              "  .colab-df-quickchart-complete:disabled,\n",
              "  .colab-df-quickchart-complete:disabled:hover {\n",
              "    background-color: var(--disabled-bg-color);\n",
              "    fill: var(--disabled-fill-color);\n",
              "    box-shadow: none;\n",
              "  }\n",
              "\n",
              "  .colab-df-spinner {\n",
              "    border: 2px solid var(--fill-color);\n",
              "    border-color: transparent;\n",
              "    border-bottom-color: var(--fill-color);\n",
              "    animation:\n",
              "      spin 1s steps(1) infinite;\n",
              "  }\n",
              "\n",
              "  @keyframes spin {\n",
              "    0% {\n",
              "      border-color: transparent;\n",
              "      border-bottom-color: var(--fill-color);\n",
              "      border-left-color: var(--fill-color);\n",
              "    }\n",
              "    20% {\n",
              "      border-color: transparent;\n",
              "      border-left-color: var(--fill-color);\n",
              "      border-top-color: var(--fill-color);\n",
              "    }\n",
              "    30% {\n",
              "      border-color: transparent;\n",
              "      border-left-color: var(--fill-color);\n",
              "      border-top-color: var(--fill-color);\n",
              "      border-right-color: var(--fill-color);\n",
              "    }\n",
              "    40% {\n",
              "      border-color: transparent;\n",
              "      border-right-color: var(--fill-color);\n",
              "      border-top-color: var(--fill-color);\n",
              "    }\n",
              "    60% {\n",
              "      border-color: transparent;\n",
              "      border-right-color: var(--fill-color);\n",
              "    }\n",
              "    80% {\n",
              "      border-color: transparent;\n",
              "      border-right-color: var(--fill-color);\n",
              "      border-bottom-color: var(--fill-color);\n",
              "    }\n",
              "    90% {\n",
              "      border-color: transparent;\n",
              "      border-bottom-color: var(--fill-color);\n",
              "    }\n",
              "  }\n",
              "</style>\n",
              "\n",
              "  <script>\n",
              "    async function quickchart(key) {\n",
              "      const quickchartButtonEl =\n",
              "        document.querySelector('#' + key + ' button');\n",
              "      quickchartButtonEl.disabled = true;  // To prevent multiple clicks.\n",
              "      quickchartButtonEl.classList.add('colab-df-spinner');\n",
              "      try {\n",
              "        const charts = await google.colab.kernel.invokeFunction(\n",
              "            'suggestCharts', [key], {});\n",
              "      } catch (error) {\n",
              "        console.error('Error during call to suggestCharts:', error);\n",
              "      }\n",
              "      quickchartButtonEl.classList.remove('colab-df-spinner');\n",
              "      quickchartButtonEl.classList.add('colab-df-quickchart-complete');\n",
              "    }\n",
              "    (() => {\n",
              "      let quickchartButtonEl =\n",
              "        document.querySelector('#df-c20be9e0-8066-4779-a44d-4b8cbfc6429c button');\n",
              "      quickchartButtonEl.style.display =\n",
              "        google.colab.kernel.accessAllowed ? 'block' : 'none';\n",
              "    })();\n",
              "  </script>\n",
              "</div>\n",
              "    </div>\n",
              "  </div>\n"
            ]
          },
          "metadata": {},
          "execution_count": 3
        }
      ],
      "source": [
        "#load first 5 row of dataset\n",
        "df.head(5)"
      ],
      "id": "1a004970"
    },
    {
      "cell_type": "code",
      "execution_count": null,
      "metadata": {
        "colab": {
          "base_uri": "https://localhost:8080/",
          "height": 206
        },
        "id": "a68c4341",
        "outputId": "f66ed9ff-dfd3-44c5-e02f-1aef0e7b4f3f"
      },
      "outputs": [
        {
          "output_type": "execute_result",
          "data": {
            "text/plain": [
              "         Currency          Date  Open  High   Low Close Volume  Market Cap\n",
              "28939  bitcoin-sv  May 02, 2013  3.78  4.04  3.01  3.37      0  58,287,979\n",
              "28940  bitcoin-sv  May 01, 2013  4.29  4.36  3.52  3.80      0  65,604,596\n",
              "28941  bitcoin-sv  Apr 30, 2013  4.40  4.57  4.17  4.30      0  74,020,918\n",
              "28942  bitcoin-sv  Apr 29, 2013  4.37  4.57  4.23  4.38      0  75,388,964\n",
              "28943  bitcoin-sv  Apr 28, 2013  4.30  4.40  4.18  4.35      0  74,636,938"
            ],
            "text/html": [
              "\n",
              "  <div id=\"df-04e27a0c-134a-438f-b2ea-4f585873296a\" class=\"colab-df-container\">\n",
              "    <div>\n",
              "<style scoped>\n",
              "    .dataframe tbody tr th:only-of-type {\n",
              "        vertical-align: middle;\n",
              "    }\n",
              "\n",
              "    .dataframe tbody tr th {\n",
              "        vertical-align: top;\n",
              "    }\n",
              "\n",
              "    .dataframe thead th {\n",
              "        text-align: right;\n",
              "    }\n",
              "</style>\n",
              "<table border=\"1\" class=\"dataframe\">\n",
              "  <thead>\n",
              "    <tr style=\"text-align: right;\">\n",
              "      <th></th>\n",
              "      <th>Currency</th>\n",
              "      <th>Date</th>\n",
              "      <th>Open</th>\n",
              "      <th>High</th>\n",
              "      <th>Low</th>\n",
              "      <th>Close</th>\n",
              "      <th>Volume</th>\n",
              "      <th>Market Cap</th>\n",
              "    </tr>\n",
              "  </thead>\n",
              "  <tbody>\n",
              "    <tr>\n",
              "      <th>28939</th>\n",
              "      <td>bitcoin-sv</td>\n",
              "      <td>May 02, 2013</td>\n",
              "      <td>3.78</td>\n",
              "      <td>4.04</td>\n",
              "      <td>3.01</td>\n",
              "      <td>3.37</td>\n",
              "      <td>0</td>\n",
              "      <td>58,287,979</td>\n",
              "    </tr>\n",
              "    <tr>\n",
              "      <th>28940</th>\n",
              "      <td>bitcoin-sv</td>\n",
              "      <td>May 01, 2013</td>\n",
              "      <td>4.29</td>\n",
              "      <td>4.36</td>\n",
              "      <td>3.52</td>\n",
              "      <td>3.80</td>\n",
              "      <td>0</td>\n",
              "      <td>65,604,596</td>\n",
              "    </tr>\n",
              "    <tr>\n",
              "      <th>28941</th>\n",
              "      <td>bitcoin-sv</td>\n",
              "      <td>Apr 30, 2013</td>\n",
              "      <td>4.40</td>\n",
              "      <td>4.57</td>\n",
              "      <td>4.17</td>\n",
              "      <td>4.30</td>\n",
              "      <td>0</td>\n",
              "      <td>74,020,918</td>\n",
              "    </tr>\n",
              "    <tr>\n",
              "      <th>28942</th>\n",
              "      <td>bitcoin-sv</td>\n",
              "      <td>Apr 29, 2013</td>\n",
              "      <td>4.37</td>\n",
              "      <td>4.57</td>\n",
              "      <td>4.23</td>\n",
              "      <td>4.38</td>\n",
              "      <td>0</td>\n",
              "      <td>75,388,964</td>\n",
              "    </tr>\n",
              "    <tr>\n",
              "      <th>28943</th>\n",
              "      <td>bitcoin-sv</td>\n",
              "      <td>Apr 28, 2013</td>\n",
              "      <td>4.30</td>\n",
              "      <td>4.40</td>\n",
              "      <td>4.18</td>\n",
              "      <td>4.35</td>\n",
              "      <td>0</td>\n",
              "      <td>74,636,938</td>\n",
              "    </tr>\n",
              "  </tbody>\n",
              "</table>\n",
              "</div>\n",
              "    <div class=\"colab-df-buttons\">\n",
              "\n",
              "  <div class=\"colab-df-container\">\n",
              "    <button class=\"colab-df-convert\" onclick=\"convertToInteractive('df-04e27a0c-134a-438f-b2ea-4f585873296a')\"\n",
              "            title=\"Convert this dataframe to an interactive table.\"\n",
              "            style=\"display:none;\">\n",
              "\n",
              "  <svg xmlns=\"http://www.w3.org/2000/svg\" height=\"24px\" viewBox=\"0 -960 960 960\">\n",
              "    <path d=\"M120-120v-720h720v720H120Zm60-500h600v-160H180v160Zm220 220h160v-160H400v160Zm0 220h160v-160H400v160ZM180-400h160v-160H180v160Zm440 0h160v-160H620v160ZM180-180h160v-160H180v160Zm440 0h160v-160H620v160Z\"/>\n",
              "  </svg>\n",
              "    </button>\n",
              "\n",
              "  <style>\n",
              "    .colab-df-container {\n",
              "      display:flex;\n",
              "      gap: 12px;\n",
              "    }\n",
              "\n",
              "    .colab-df-convert {\n",
              "      background-color: #E8F0FE;\n",
              "      border: none;\n",
              "      border-radius: 50%;\n",
              "      cursor: pointer;\n",
              "      display: none;\n",
              "      fill: #1967D2;\n",
              "      height: 32px;\n",
              "      padding: 0 0 0 0;\n",
              "      width: 32px;\n",
              "    }\n",
              "\n",
              "    .colab-df-convert:hover {\n",
              "      background-color: #E2EBFA;\n",
              "      box-shadow: 0px 1px 2px rgba(60, 64, 67, 0.3), 0px 1px 3px 1px rgba(60, 64, 67, 0.15);\n",
              "      fill: #174EA6;\n",
              "    }\n",
              "\n",
              "    .colab-df-buttons div {\n",
              "      margin-bottom: 4px;\n",
              "    }\n",
              "\n",
              "    [theme=dark] .colab-df-convert {\n",
              "      background-color: #3B4455;\n",
              "      fill: #D2E3FC;\n",
              "    }\n",
              "\n",
              "    [theme=dark] .colab-df-convert:hover {\n",
              "      background-color: #434B5C;\n",
              "      box-shadow: 0px 1px 3px 1px rgba(0, 0, 0, 0.15);\n",
              "      filter: drop-shadow(0px 1px 2px rgba(0, 0, 0, 0.3));\n",
              "      fill: #FFFFFF;\n",
              "    }\n",
              "  </style>\n",
              "\n",
              "    <script>\n",
              "      const buttonEl =\n",
              "        document.querySelector('#df-04e27a0c-134a-438f-b2ea-4f585873296a button.colab-df-convert');\n",
              "      buttonEl.style.display =\n",
              "        google.colab.kernel.accessAllowed ? 'block' : 'none';\n",
              "\n",
              "      async function convertToInteractive(key) {\n",
              "        const element = document.querySelector('#df-04e27a0c-134a-438f-b2ea-4f585873296a');\n",
              "        const dataTable =\n",
              "          await google.colab.kernel.invokeFunction('convertToInteractive',\n",
              "                                                    [key], {});\n",
              "        if (!dataTable) return;\n",
              "\n",
              "        const docLinkHtml = 'Like what you see? Visit the ' +\n",
              "          '<a target=\"_blank\" href=https://colab.research.google.com/notebooks/data_table.ipynb>data table notebook</a>'\n",
              "          + ' to learn more about interactive tables.';\n",
              "        element.innerHTML = '';\n",
              "        dataTable['output_type'] = 'display_data';\n",
              "        await google.colab.output.renderOutput(dataTable, element);\n",
              "        const docLink = document.createElement('div');\n",
              "        docLink.innerHTML = docLinkHtml;\n",
              "        element.appendChild(docLink);\n",
              "      }\n",
              "    </script>\n",
              "  </div>\n",
              "\n",
              "\n",
              "<div id=\"df-28e2ee26-a741-4bab-85b6-a9d5412b2ebc\">\n",
              "  <button class=\"colab-df-quickchart\" onclick=\"quickchart('df-28e2ee26-a741-4bab-85b6-a9d5412b2ebc')\"\n",
              "            title=\"Suggest charts\"\n",
              "            style=\"display:none;\">\n",
              "\n",
              "<svg xmlns=\"http://www.w3.org/2000/svg\" height=\"24px\"viewBox=\"0 0 24 24\"\n",
              "     width=\"24px\">\n",
              "    <g>\n",
              "        <path d=\"M19 3H5c-1.1 0-2 .9-2 2v14c0 1.1.9 2 2 2h14c1.1 0 2-.9 2-2V5c0-1.1-.9-2-2-2zM9 17H7v-7h2v7zm4 0h-2V7h2v10zm4 0h-2v-4h2v4z\"/>\n",
              "    </g>\n",
              "</svg>\n",
              "  </button>\n",
              "\n",
              "<style>\n",
              "  .colab-df-quickchart {\n",
              "      --bg-color: #E8F0FE;\n",
              "      --fill-color: #1967D2;\n",
              "      --hover-bg-color: #E2EBFA;\n",
              "      --hover-fill-color: #174EA6;\n",
              "      --disabled-fill-color: #AAA;\n",
              "      --disabled-bg-color: #DDD;\n",
              "  }\n",
              "\n",
              "  [theme=dark] .colab-df-quickchart {\n",
              "      --bg-color: #3B4455;\n",
              "      --fill-color: #D2E3FC;\n",
              "      --hover-bg-color: #434B5C;\n",
              "      --hover-fill-color: #FFFFFF;\n",
              "      --disabled-bg-color: #3B4455;\n",
              "      --disabled-fill-color: #666;\n",
              "  }\n",
              "\n",
              "  .colab-df-quickchart {\n",
              "    background-color: var(--bg-color);\n",
              "    border: none;\n",
              "    border-radius: 50%;\n",
              "    cursor: pointer;\n",
              "    display: none;\n",
              "    fill: var(--fill-color);\n",
              "    height: 32px;\n",
              "    padding: 0;\n",
              "    width: 32px;\n",
              "  }\n",
              "\n",
              "  .colab-df-quickchart:hover {\n",
              "    background-color: var(--hover-bg-color);\n",
              "    box-shadow: 0 1px 2px rgba(60, 64, 67, 0.3), 0 1px 3px 1px rgba(60, 64, 67, 0.15);\n",
              "    fill: var(--button-hover-fill-color);\n",
              "  }\n",
              "\n",
              "  .colab-df-quickchart-complete:disabled,\n",
              "  .colab-df-quickchart-complete:disabled:hover {\n",
              "    background-color: var(--disabled-bg-color);\n",
              "    fill: var(--disabled-fill-color);\n",
              "    box-shadow: none;\n",
              "  }\n",
              "\n",
              "  .colab-df-spinner {\n",
              "    border: 2px solid var(--fill-color);\n",
              "    border-color: transparent;\n",
              "    border-bottom-color: var(--fill-color);\n",
              "    animation:\n",
              "      spin 1s steps(1) infinite;\n",
              "  }\n",
              "\n",
              "  @keyframes spin {\n",
              "    0% {\n",
              "      border-color: transparent;\n",
              "      border-bottom-color: var(--fill-color);\n",
              "      border-left-color: var(--fill-color);\n",
              "    }\n",
              "    20% {\n",
              "      border-color: transparent;\n",
              "      border-left-color: var(--fill-color);\n",
              "      border-top-color: var(--fill-color);\n",
              "    }\n",
              "    30% {\n",
              "      border-color: transparent;\n",
              "      border-left-color: var(--fill-color);\n",
              "      border-top-color: var(--fill-color);\n",
              "      border-right-color: var(--fill-color);\n",
              "    }\n",
              "    40% {\n",
              "      border-color: transparent;\n",
              "      border-right-color: var(--fill-color);\n",
              "      border-top-color: var(--fill-color);\n",
              "    }\n",
              "    60% {\n",
              "      border-color: transparent;\n",
              "      border-right-color: var(--fill-color);\n",
              "    }\n",
              "    80% {\n",
              "      border-color: transparent;\n",
              "      border-right-color: var(--fill-color);\n",
              "      border-bottom-color: var(--fill-color);\n",
              "    }\n",
              "    90% {\n",
              "      border-color: transparent;\n",
              "      border-bottom-color: var(--fill-color);\n",
              "    }\n",
              "  }\n",
              "</style>\n",
              "\n",
              "  <script>\n",
              "    async function quickchart(key) {\n",
              "      const quickchartButtonEl =\n",
              "        document.querySelector('#' + key + ' button');\n",
              "      quickchartButtonEl.disabled = true;  // To prevent multiple clicks.\n",
              "      quickchartButtonEl.classList.add('colab-df-spinner');\n",
              "      try {\n",
              "        const charts = await google.colab.kernel.invokeFunction(\n",
              "            'suggestCharts', [key], {});\n",
              "      } catch (error) {\n",
              "        console.error('Error during call to suggestCharts:', error);\n",
              "      }\n",
              "      quickchartButtonEl.classList.remove('colab-df-spinner');\n",
              "      quickchartButtonEl.classList.add('colab-df-quickchart-complete');\n",
              "    }\n",
              "    (() => {\n",
              "      let quickchartButtonEl =\n",
              "        document.querySelector('#df-28e2ee26-a741-4bab-85b6-a9d5412b2ebc button');\n",
              "      quickchartButtonEl.style.display =\n",
              "        google.colab.kernel.accessAllowed ? 'block' : 'none';\n",
              "    })();\n",
              "  </script>\n",
              "</div>\n",
              "    </div>\n",
              "  </div>\n"
            ]
          },
          "metadata": {},
          "execution_count": 4
        }
      ],
      "source": [
        "#load last 5 row of dataset\n",
        "df.tail()"
      ],
      "id": "a68c4341"
    },
    {
      "cell_type": "code",
      "execution_count": null,
      "metadata": {
        "colab": {
          "base_uri": "https://localhost:8080/"
        },
        "id": "a9d107ac",
        "outputId": "3f55e43f-b3b4-4ed6-9de0-5afbf56160c6"
      },
      "outputs": [
        {
          "output_type": "execute_result",
          "data": {
            "text/plain": [
              "Currency      object\n",
              "Date          object\n",
              "Open          object\n",
              "High          object\n",
              "Low           object\n",
              "Close         object\n",
              "Volume        object\n",
              "Market Cap    object\n",
              "dtype: object"
            ]
          },
          "metadata": {},
          "execution_count": 5
        }
      ],
      "source": [
        "#All columns Data types\n",
        "df.dtypes\n"
      ],
      "id": "a9d107ac"
    },
    {
      "cell_type": "code",
      "execution_count": null,
      "metadata": {
        "colab": {
          "base_uri": "https://localhost:8080/"
        },
        "id": "2bd923b8",
        "outputId": "a0814a3d-2e18-415d-ef35-7ea624dfd132"
      },
      "outputs": [
        {
          "output_type": "execute_result",
          "data": {
            "text/plain": [
              "(28944, 8)"
            ]
          },
          "metadata": {},
          "execution_count": 6
        }
      ],
      "source": [
        "#shape of dataset (row,columns) in the datset\n",
        "df.shape"
      ],
      "id": "2bd923b8"
    },
    {
      "cell_type": "code",
      "execution_count": null,
      "metadata": {
        "colab": {
          "base_uri": "https://localhost:8080/",
          "height": 175
        },
        "id": "40555105",
        "outputId": "48a8109f-dd79-4e72-ec3e-7d25dcc92ef8"
      },
      "outputs": [
        {
          "output_type": "execute_result",
          "data": {
            "text/plain": [
              "       Currency          Date   Open   High    Low  Close Volume Market Cap\n",
              "count     28944         28944  28944  28944  28944  28944  28944      28944\n",
              "unique       12          2412  12307  12057  12803  12294  16349      16058\n",
              "top       tezos  Feb 25, 2015   1.00   1.00   1.00   1.00      0    451,600\n",
              "freq       2412            14   1725   1511   1367   1729   2916        394"
            ],
            "text/html": [
              "\n",
              "  <div id=\"df-ed319c4a-86a8-4263-8b34-ab6ac3dbe5a2\" class=\"colab-df-container\">\n",
              "    <div>\n",
              "<style scoped>\n",
              "    .dataframe tbody tr th:only-of-type {\n",
              "        vertical-align: middle;\n",
              "    }\n",
              "\n",
              "    .dataframe tbody tr th {\n",
              "        vertical-align: top;\n",
              "    }\n",
              "\n",
              "    .dataframe thead th {\n",
              "        text-align: right;\n",
              "    }\n",
              "</style>\n",
              "<table border=\"1\" class=\"dataframe\">\n",
              "  <thead>\n",
              "    <tr style=\"text-align: right;\">\n",
              "      <th></th>\n",
              "      <th>Currency</th>\n",
              "      <th>Date</th>\n",
              "      <th>Open</th>\n",
              "      <th>High</th>\n",
              "      <th>Low</th>\n",
              "      <th>Close</th>\n",
              "      <th>Volume</th>\n",
              "      <th>Market Cap</th>\n",
              "    </tr>\n",
              "  </thead>\n",
              "  <tbody>\n",
              "    <tr>\n",
              "      <th>count</th>\n",
              "      <td>28944</td>\n",
              "      <td>28944</td>\n",
              "      <td>28944</td>\n",
              "      <td>28944</td>\n",
              "      <td>28944</td>\n",
              "      <td>28944</td>\n",
              "      <td>28944</td>\n",
              "      <td>28944</td>\n",
              "    </tr>\n",
              "    <tr>\n",
              "      <th>unique</th>\n",
              "      <td>12</td>\n",
              "      <td>2412</td>\n",
              "      <td>12307</td>\n",
              "      <td>12057</td>\n",
              "      <td>12803</td>\n",
              "      <td>12294</td>\n",
              "      <td>16349</td>\n",
              "      <td>16058</td>\n",
              "    </tr>\n",
              "    <tr>\n",
              "      <th>top</th>\n",
              "      <td>tezos</td>\n",
              "      <td>Feb 25, 2015</td>\n",
              "      <td>1.00</td>\n",
              "      <td>1.00</td>\n",
              "      <td>1.00</td>\n",
              "      <td>1.00</td>\n",
              "      <td>0</td>\n",
              "      <td>451,600</td>\n",
              "    </tr>\n",
              "    <tr>\n",
              "      <th>freq</th>\n",
              "      <td>2412</td>\n",
              "      <td>14</td>\n",
              "      <td>1725</td>\n",
              "      <td>1511</td>\n",
              "      <td>1367</td>\n",
              "      <td>1729</td>\n",
              "      <td>2916</td>\n",
              "      <td>394</td>\n",
              "    </tr>\n",
              "  </tbody>\n",
              "</table>\n",
              "</div>\n",
              "    <div class=\"colab-df-buttons\">\n",
              "\n",
              "  <div class=\"colab-df-container\">\n",
              "    <button class=\"colab-df-convert\" onclick=\"convertToInteractive('df-ed319c4a-86a8-4263-8b34-ab6ac3dbe5a2')\"\n",
              "            title=\"Convert this dataframe to an interactive table.\"\n",
              "            style=\"display:none;\">\n",
              "\n",
              "  <svg xmlns=\"http://www.w3.org/2000/svg\" height=\"24px\" viewBox=\"0 -960 960 960\">\n",
              "    <path d=\"M120-120v-720h720v720H120Zm60-500h600v-160H180v160Zm220 220h160v-160H400v160Zm0 220h160v-160H400v160ZM180-400h160v-160H180v160Zm440 0h160v-160H620v160ZM180-180h160v-160H180v160Zm440 0h160v-160H620v160Z\"/>\n",
              "  </svg>\n",
              "    </button>\n",
              "\n",
              "  <style>\n",
              "    .colab-df-container {\n",
              "      display:flex;\n",
              "      gap: 12px;\n",
              "    }\n",
              "\n",
              "    .colab-df-convert {\n",
              "      background-color: #E8F0FE;\n",
              "      border: none;\n",
              "      border-radius: 50%;\n",
              "      cursor: pointer;\n",
              "      display: none;\n",
              "      fill: #1967D2;\n",
              "      height: 32px;\n",
              "      padding: 0 0 0 0;\n",
              "      width: 32px;\n",
              "    }\n",
              "\n",
              "    .colab-df-convert:hover {\n",
              "      background-color: #E2EBFA;\n",
              "      box-shadow: 0px 1px 2px rgba(60, 64, 67, 0.3), 0px 1px 3px 1px rgba(60, 64, 67, 0.15);\n",
              "      fill: #174EA6;\n",
              "    }\n",
              "\n",
              "    .colab-df-buttons div {\n",
              "      margin-bottom: 4px;\n",
              "    }\n",
              "\n",
              "    [theme=dark] .colab-df-convert {\n",
              "      background-color: #3B4455;\n",
              "      fill: #D2E3FC;\n",
              "    }\n",
              "\n",
              "    [theme=dark] .colab-df-convert:hover {\n",
              "      background-color: #434B5C;\n",
              "      box-shadow: 0px 1px 3px 1px rgba(0, 0, 0, 0.15);\n",
              "      filter: drop-shadow(0px 1px 2px rgba(0, 0, 0, 0.3));\n",
              "      fill: #FFFFFF;\n",
              "    }\n",
              "  </style>\n",
              "\n",
              "    <script>\n",
              "      const buttonEl =\n",
              "        document.querySelector('#df-ed319c4a-86a8-4263-8b34-ab6ac3dbe5a2 button.colab-df-convert');\n",
              "      buttonEl.style.display =\n",
              "        google.colab.kernel.accessAllowed ? 'block' : 'none';\n",
              "\n",
              "      async function convertToInteractive(key) {\n",
              "        const element = document.querySelector('#df-ed319c4a-86a8-4263-8b34-ab6ac3dbe5a2');\n",
              "        const dataTable =\n",
              "          await google.colab.kernel.invokeFunction('convertToInteractive',\n",
              "                                                    [key], {});\n",
              "        if (!dataTable) return;\n",
              "\n",
              "        const docLinkHtml = 'Like what you see? Visit the ' +\n",
              "          '<a target=\"_blank\" href=https://colab.research.google.com/notebooks/data_table.ipynb>data table notebook</a>'\n",
              "          + ' to learn more about interactive tables.';\n",
              "        element.innerHTML = '';\n",
              "        dataTable['output_type'] = 'display_data';\n",
              "        await google.colab.output.renderOutput(dataTable, element);\n",
              "        const docLink = document.createElement('div');\n",
              "        docLink.innerHTML = docLinkHtml;\n",
              "        element.appendChild(docLink);\n",
              "      }\n",
              "    </script>\n",
              "  </div>\n",
              "\n",
              "\n",
              "<div id=\"df-e3c63bbd-3e66-4bb3-8ce6-6cbbe7779733\">\n",
              "  <button class=\"colab-df-quickchart\" onclick=\"quickchart('df-e3c63bbd-3e66-4bb3-8ce6-6cbbe7779733')\"\n",
              "            title=\"Suggest charts\"\n",
              "            style=\"display:none;\">\n",
              "\n",
              "<svg xmlns=\"http://www.w3.org/2000/svg\" height=\"24px\"viewBox=\"0 0 24 24\"\n",
              "     width=\"24px\">\n",
              "    <g>\n",
              "        <path d=\"M19 3H5c-1.1 0-2 .9-2 2v14c0 1.1.9 2 2 2h14c1.1 0 2-.9 2-2V5c0-1.1-.9-2-2-2zM9 17H7v-7h2v7zm4 0h-2V7h2v10zm4 0h-2v-4h2v4z\"/>\n",
              "    </g>\n",
              "</svg>\n",
              "  </button>\n",
              "\n",
              "<style>\n",
              "  .colab-df-quickchart {\n",
              "      --bg-color: #E8F0FE;\n",
              "      --fill-color: #1967D2;\n",
              "      --hover-bg-color: #E2EBFA;\n",
              "      --hover-fill-color: #174EA6;\n",
              "      --disabled-fill-color: #AAA;\n",
              "      --disabled-bg-color: #DDD;\n",
              "  }\n",
              "\n",
              "  [theme=dark] .colab-df-quickchart {\n",
              "      --bg-color: #3B4455;\n",
              "      --fill-color: #D2E3FC;\n",
              "      --hover-bg-color: #434B5C;\n",
              "      --hover-fill-color: #FFFFFF;\n",
              "      --disabled-bg-color: #3B4455;\n",
              "      --disabled-fill-color: #666;\n",
              "  }\n",
              "\n",
              "  .colab-df-quickchart {\n",
              "    background-color: var(--bg-color);\n",
              "    border: none;\n",
              "    border-radius: 50%;\n",
              "    cursor: pointer;\n",
              "    display: none;\n",
              "    fill: var(--fill-color);\n",
              "    height: 32px;\n",
              "    padding: 0;\n",
              "    width: 32px;\n",
              "  }\n",
              "\n",
              "  .colab-df-quickchart:hover {\n",
              "    background-color: var(--hover-bg-color);\n",
              "    box-shadow: 0 1px 2px rgba(60, 64, 67, 0.3), 0 1px 3px 1px rgba(60, 64, 67, 0.15);\n",
              "    fill: var(--button-hover-fill-color);\n",
              "  }\n",
              "\n",
              "  .colab-df-quickchart-complete:disabled,\n",
              "  .colab-df-quickchart-complete:disabled:hover {\n",
              "    background-color: var(--disabled-bg-color);\n",
              "    fill: var(--disabled-fill-color);\n",
              "    box-shadow: none;\n",
              "  }\n",
              "\n",
              "  .colab-df-spinner {\n",
              "    border: 2px solid var(--fill-color);\n",
              "    border-color: transparent;\n",
              "    border-bottom-color: var(--fill-color);\n",
              "    animation:\n",
              "      spin 1s steps(1) infinite;\n",
              "  }\n",
              "\n",
              "  @keyframes spin {\n",
              "    0% {\n",
              "      border-color: transparent;\n",
              "      border-bottom-color: var(--fill-color);\n",
              "      border-left-color: var(--fill-color);\n",
              "    }\n",
              "    20% {\n",
              "      border-color: transparent;\n",
              "      border-left-color: var(--fill-color);\n",
              "      border-top-color: var(--fill-color);\n",
              "    }\n",
              "    30% {\n",
              "      border-color: transparent;\n",
              "      border-left-color: var(--fill-color);\n",
              "      border-top-color: var(--fill-color);\n",
              "      border-right-color: var(--fill-color);\n",
              "    }\n",
              "    40% {\n",
              "      border-color: transparent;\n",
              "      border-right-color: var(--fill-color);\n",
              "      border-top-color: var(--fill-color);\n",
              "    }\n",
              "    60% {\n",
              "      border-color: transparent;\n",
              "      border-right-color: var(--fill-color);\n",
              "    }\n",
              "    80% {\n",
              "      border-color: transparent;\n",
              "      border-right-color: var(--fill-color);\n",
              "      border-bottom-color: var(--fill-color);\n",
              "    }\n",
              "    90% {\n",
              "      border-color: transparent;\n",
              "      border-bottom-color: var(--fill-color);\n",
              "    }\n",
              "  }\n",
              "</style>\n",
              "\n",
              "  <script>\n",
              "    async function quickchart(key) {\n",
              "      const quickchartButtonEl =\n",
              "        document.querySelector('#' + key + ' button');\n",
              "      quickchartButtonEl.disabled = true;  // To prevent multiple clicks.\n",
              "      quickchartButtonEl.classList.add('colab-df-spinner');\n",
              "      try {\n",
              "        const charts = await google.colab.kernel.invokeFunction(\n",
              "            'suggestCharts', [key], {});\n",
              "      } catch (error) {\n",
              "        console.error('Error during call to suggestCharts:', error);\n",
              "      }\n",
              "      quickchartButtonEl.classList.remove('colab-df-spinner');\n",
              "      quickchartButtonEl.classList.add('colab-df-quickchart-complete');\n",
              "    }\n",
              "    (() => {\n",
              "      let quickchartButtonEl =\n",
              "        document.querySelector('#df-e3c63bbd-3e66-4bb3-8ce6-6cbbe7779733 button');\n",
              "      quickchartButtonEl.style.display =\n",
              "        google.colab.kernel.accessAllowed ? 'block' : 'none';\n",
              "    })();\n",
              "  </script>\n",
              "</div>\n",
              "    </div>\n",
              "  </div>\n"
            ]
          },
          "metadata": {},
          "execution_count": 7
        }
      ],
      "source": [
        "#The describe() function in pandas is used to generate descriptive statsitics\n",
        "df.describe()"
      ],
      "id": "40555105"
    },
    {
      "cell_type": "markdown",
      "metadata": {
        "id": "4790313c"
      },
      "source": [
        "**Data Cleaning**\n"
      ],
      "id": "4790313c"
    },
    {
      "cell_type": "code",
      "execution_count": null,
      "metadata": {
        "colab": {
          "base_uri": "https://localhost:8080/"
        },
        "id": "ad70dd7c",
        "outputId": "37e3c43b-cd30-491b-dfdc-7accb8495ac1"
      },
      "outputs": [
        {
          "output_type": "execute_result",
          "data": {
            "text/plain": [
              "Currency      0\n",
              "Date          0\n",
              "Open          0\n",
              "High          0\n",
              "Low           0\n",
              "Close         0\n",
              "Volume        0\n",
              "Market Cap    0\n",
              "dtype: int64"
            ]
          },
          "metadata": {},
          "execution_count": 8
        }
      ],
      "source": [
        "#Here from isnull() we found the null vaue on the dataset\n",
        "df.isnull().sum()\n"
      ],
      "id": "ad70dd7c"
    },
    {
      "cell_type": "markdown",
      "metadata": {
        "id": "0fdd7a62"
      },
      "source": [
        "here we have  1 null value.in Volume and Market Cap."
      ],
      "id": "0fdd7a62"
    },
    {
      "cell_type": "markdown",
      "source": [
        "droping the null values"
      ],
      "metadata": {
        "id": "jrBpsA5dWKAE"
      },
      "id": "jrBpsA5dWKAE"
    },
    {
      "cell_type": "code",
      "source": [
        "df=df.dropna()"
      ],
      "metadata": {
        "id": "VqDxISHKWNCZ"
      },
      "id": "VqDxISHKWNCZ",
      "execution_count": null,
      "outputs": []
    },
    {
      "cell_type": "code",
      "execution_count": null,
      "metadata": {
        "colab": {
          "base_uri": "https://localhost:8080/"
        },
        "id": "b28fca7b",
        "outputId": "6dc1bd36-88df-4287-8c48-c61aeea9ca69"
      },
      "outputs": [
        {
          "output_type": "execute_result",
          "data": {
            "text/plain": [
              "Index(['Currency', 'Date', 'Open', 'High', 'Low', 'Close', 'Volume',\n",
              "       'Market Cap'],\n",
              "      dtype='object')"
            ]
          },
          "metadata": {},
          "execution_count": 10
        }
      ],
      "source": [
        "df.columns"
      ],
      "id": "b28fca7b"
    },
    {
      "cell_type": "code",
      "execution_count": null,
      "metadata": {
        "id": "2928c412"
      },
      "outputs": [],
      "source": [
        "# Converting the Data type to the appropiate data type\n",
        "import pandas as pd\n",
        "\n",
        "# Assuming df is your DataFrame\n",
        "df['Currency'] = df['Currency'].astype(str)  # Convert 'Currency' to string\n",
        "df['Date'] = pd.to_datetime(df['Date'])  # Convert 'Date' to datetime format\n",
        "\n",
        "# Convert remaining columns to float\n",
        "cols_to_convert = ['Open', 'High', 'Low', 'Close', 'Volume', 'Market Cap']\n",
        "for col in cols_to_convert:\n",
        "    df[col] = df[col].str.replace(',', '').astype(float)"
      ],
      "id": "2928c412"
    },
    {
      "cell_type": "code",
      "execution_count": null,
      "metadata": {
        "colab": {
          "base_uri": "https://localhost:8080/"
        },
        "id": "d813c8a9",
        "outputId": "e505ee8b-b568-4d66-9348-f1f1d127438a"
      },
      "outputs": [
        {
          "output_type": "stream",
          "name": "stdout",
          "text": [
            "<class 'pandas.core.frame.DataFrame'>\n",
            "RangeIndex: 28944 entries, 0 to 28943\n",
            "Data columns (total 8 columns):\n",
            " #   Column      Non-Null Count  Dtype         \n",
            "---  ------      --------------  -----         \n",
            " 0   Currency    28944 non-null  object        \n",
            " 1   Date        28944 non-null  datetime64[ns]\n",
            " 2   Open        28944 non-null  float64       \n",
            " 3   High        28944 non-null  float64       \n",
            " 4   Low         28944 non-null  float64       \n",
            " 5   Close       28944 non-null  float64       \n",
            " 6   Volume      28944 non-null  float64       \n",
            " 7   Market Cap  28944 non-null  float64       \n",
            "dtypes: datetime64[ns](1), float64(6), object(1)\n",
            "memory usage: 1.8+ MB\n"
          ]
        }
      ],
      "source": [
        "#The info() function in pandas provides a concise summary of a DataFrame, including\n",
        "#information about the data types, non-null values, and memory usage\n",
        "\n",
        "df.info()"
      ],
      "id": "d813c8a9"
    },
    {
      "cell_type": "code",
      "execution_count": null,
      "metadata": {
        "colab": {
          "base_uri": "https://localhost:8080/"
        },
        "id": "e0605166",
        "outputId": "d8557cab-7844-4059-d3bc-5569f4db57f6"
      },
      "outputs": [
        {
          "output_type": "execute_result",
          "data": {
            "text/plain": [
              "Currency         12\n",
              "Date           2412\n",
              "Open          12307\n",
              "High          12057\n",
              "Low           12803\n",
              "Close         12294\n",
              "Volume        16349\n",
              "Market Cap    16058\n",
              "dtype: int64"
            ]
          },
          "metadata": {},
          "execution_count": 13
        }
      ],
      "source": [
        "# it's give us the unique value in each column\n",
        "df.nunique()"
      ],
      "id": "e0605166"
    },
    {
      "cell_type": "markdown",
      "metadata": {
        "id": "c2e3644f"
      },
      "source": [
        "**Distribution**"
      ],
      "id": "c2e3644f"
    },
    {
      "cell_type": "code",
      "execution_count": null,
      "metadata": {
        "colab": {
          "base_uri": "https://localhost:8080/",
          "height": 1000
        },
        "id": "35409ff6",
        "outputId": "acee3f6a-ffd4-4f4a-a33e-13992472546c"
      },
      "outputs": [
        {
          "output_type": "display_data",
          "data": {
            "text/plain": [
              "<Figure size 500x500 with 1 Axes>"
            ],
            "image/png": "[encoded data removed]"
          },
          "metadata": {}
        },
        {
          "output_type": "display_data",
          "data": {
            "text/plain": [
              "<Figure size 500x500 with 1 Axes>"
            ],
            "image/png": "[encoded data removed]"
          },
          "metadata": {}
        },
        {
          "output_type": "display_data",
          "data": {
            "text/plain": [
              "<Figure size 500x500 with 1 Axes>"
            ],
            "image/png": "[encoded data removed]"
          },
          "metadata": {}
        }
      ],
      "source": [
        "import pandas as pd\n",
        "import seaborn as sns\n",
        "import matplotlib.pyplot as plt\n",
        "from scipy import stats\n",
        "\n",
        "\n",
        "\n",
        "# Plotting the distribution of each numerical column\n",
        "for col in ['Open', 'High', 'Low', 'Close', 'Volume', 'Market Cap']:\n",
        "    sns.displot(df[col], kde=True)\n",
        "    plt.title(f'Distribution of {col}')\n",
        "    plt.show()\n",
        "\n",
        "# Checking the type of distribution and transforming if needed\n",
        "for col in ['Open', 'High', 'Low', 'Close', 'Volume', 'Market Cap']:\n",
        "    skewness = df[col].skew()\n",
        "    print(f'Skewness of {col}: {skewness}')\n",
        "\n",
        "    # If skewness is > 0.5, the distribution is right-skewed\n",
        "    # If skewness is < -0.5, the distribution is left-skewed\n",
        "    # If skewness is between -0.5 and 0.5, the distribution is approximately symmetric\n",
        "    # Applying log transformation if the distribution is skewed\n",
        "    if abs(skewness) > 0.5:\n",
        "        df[col] = df[col].apply(lambda x: np.log(x + 1))\n",
        "        sns.displot(df[col], kde=True)\n",
        "        plt.title(f'Distribution of {col} after log transformation')\n",
        "        plt.show()\n"
      ],
      "id": "35409ff6"
    },
    {
      "cell_type": "markdown",
      "metadata": {
        "id": "c8206d9a"
      },
      "source": [
        "\n",
        "**Univariate Analysis**"
      ],
      "id": "c8206d9a"
    },
    {
      "cell_type": "markdown",
      "metadata": {
        "id": "e9698dac"
      },
      "source": [
        "Univariate analysis is a fundamental type of statistical data analysis that uses only one variable. The prefix \"uni\" means \"one\". <br>\n",
        "The purpose of univariate analysis is to describe data. It summarizes data, finds patterns in the data, and understands the distribution of values for a <br> single variable. It doesn't deal with causes or relationships."
      ],
      "id": "e9698dac"
    },
    {
      "cell_type": "markdown",
      "metadata": {
        "id": "0b8094f4"
      },
      "source": [
        "1,What is the summary statistics of each column? What are the mean, median, mode,standard deviation, minimum, maximum, and quartiles of each numerical column?"
      ],
      "id": "0b8094f4"
    },
    {
      "cell_type": "code",
      "execution_count": null,
      "metadata": {
        "colab": {
          "background_save": true
        },
        "id": "9311b389"
      },
      "outputs": [],
      "source": [
        "import pandas as pd\n",
        "# Assuming you already have your DataFrame 'df'\n",
        "# Convert numerical columns to the appropriate data types\n",
        "numerical_columns = ['Open', 'High', 'Low', 'Close', 'Volume', 'Market Cap']\n",
        "df[numerical_columns] = df[numerical_columns].apply(pd.to_numeric, errors='coerce')\n",
        "# Use the describe() method to calculate summary statistics\n",
        "summary_stats = df[numerical_columns].describe()\n",
        "# Calculate the mode separately\n",
        "mode_values = df[numerical_columns].mode().iloc[0]\n",
        "# Add the mode row to the summary statistics DataFrame\n",
        "summary_stats.loc['mode'] = mode_values\n",
        "# Print the summary statistics\n",
        "print(summary_stats)"
      ],
      "id": "9311b389"
    },
    {
      "cell_type": "markdown",
      "metadata": {
        "id": "dd3557ca"
      },
      "source": [
        "2,How is the distribution of each numerical column? Is it\n",
        "normal, skewed, or bimodal? How can you visualize the distribution using histograms or boxplots?"
      ],
      "id": "dd3557ca"
    },
    {
      "cell_type": "code",
      "execution_count": null,
      "metadata": {
        "colab": {
          "background_save": true
        },
        "id": "13c30f48"
      },
      "outputs": [],
      "source": [
        "import pandas as pd\n",
        "import seaborn as sns\n",
        "import matplotlib.pyplot as plt\n",
        "# Assuming you already have your DataFrame 'df'\n",
        "# Convert numerical columns to the appropriate data types\n",
        "numerical_columns = ['Open', 'High', 'Low', 'Close', 'Volume', 'Market Cap']\n",
        "df[numerical_columns] = df[numerical_columns].apply(pd.to_numeric, errors='coerce')\n",
        "# Create subplots for histograms\n",
        "fig, axes = plt.subplots(nrows=2, ncols=3, figsize=(15, 8))\n",
        "# Plot histograms for each numerical column\n",
        "for i, col in enumerate(numerical_columns):\n",
        "row, col_idx = divmod(i, 3)\n",
        "sns.histplot(df[col], ax=axes[row, col_idx], kde=True)\n",
        "axes[row, col_idx].set_title(f'Histogram of {col}')\n",
        "# Adjust layout\n",
        "plt.tight_layout()\n",
        "# Create subplots for boxplots\n",
        "fig, axes = plt.subplots(nrows=2, ncols=3, figsize=(15, 8))\n",
        "# Plot boxplots for each numerical column\n",
        "for i, col in enumerate(numerical_columns):\n",
        "row, col_idx = divmod(i, 3)\n",
        "sns.boxplot(data=df, y=col, ax=axes[row, col_idx])\n",
        "axes[row, col_idx].set_title(f'Boxplot of {col}')\n",
        "# Adjust layout\n",
        "plt.tight_layout()\n",
        "# Show plots\n",
        "plt.show()"
      ],
      "id": "13c30f48"
    },
    {
      "cell_type": "markdown",
      "metadata": {
        "id": "8306d444"
      },
      "source": [
        "3,How is the distribution of each categorical column? What are the unique values and their frequencies? How can you visualize the distribution using bar charts or pie charts?"
      ],
      "id": "8306d444"
    },
    {
      "cell_type": "code",
      "execution_count": null,
      "metadata": {
        "colab": {
          "background_save": true
        },
        "id": "5775f4d1"
      },
      "outputs": [],
      "source": [
        "# Assuming you already have your DataFrame 'df'\n",
        "# Check if 'Currency' is a categorical column\n",
        "categorical_column = 'Currency'\n",
        "# Count unique values and their frequencies\n",
        "value_counts = df[categorical_column].value_counts()\n",
        "# Create a pie chart\n",
        "plt.figure(figsize=(8, 8))\n",
        "plt.pie(value_counts, labels=value_counts.index, autopct='%1.1f%%', startangle=140)\n",
        "plt.title(f'Distribution of {categorical_column}')\n",
        "plt.axis('equal') # Equal aspect ratio ensures that the pie chart is circular.\n",
        "# Show the pie chart\n",
        "plt.show()"
      ],
      "id": "5775f4d1"
    },
    {
      "cell_type": "markdown",
      "metadata": {
        "id": "7a9120ea"
      },
      "source": [
        "4,How does the data vary across different currencies? Which currencies have the highest or lowest values for each column?"
      ],
      "id": "7a9120ea"
    },
    {
      "cell_type": "code",
      "execution_count": null,
      "metadata": {
        "colab": {
          "background_save": true
        },
        "id": "cf4224e0"
      },
      "outputs": [],
      "source": [
        "import pandas as pd\n",
        "# Assuming your DataFrame is named 'df'\n",
        "# Group the DataFrame by 'Currency'\n",
        "grouped = df.groupby('Currency')\n",
        "# Define the columns you want to analyze\n",
        "columns_to_analyze = ['Open', 'High', 'Low', 'Close', 'Volume', 'Market Cap']\n",
        "# Initialize dictionaries to store results\n",
        "highest_values = {}\n",
        "lowest_values = {}\n",
        "# Calculate summary statistics for each column within each currency group\n",
        "for col in columns_to_analyze:\n",
        "highest_values[col] = grouped[col].max()\n",
        "lowest_values[col] = grouped[col].min()\n",
        "# Convert the dictionaries to DataFrames for easy visualization\n",
        "highest_values_df = pd.DataFrame(highest_values)\n",
        "lowest_values_df = pd.DataFrame(lowest_values)\n",
        "# Display currencies with the highest and lowest values for each column\n",
        "print(\"Currencies with the Highest Values:\")\n",
        "print(highest_values_df)\n",
        "print(\"\\nCurrencies with the Lowest Values:\")\n",
        "print(lowest_values_df)"
      ],
      "id": "cf4224e0"
    },
    {
      "cell_type": "markdown",
      "metadata": {
        "id": "3dbb1ea1"
      },
      "source": [
        "5,What is the most traded currency?"
      ],
      "id": "3dbb1ea1"
    },
    {
      "cell_type": "code",
      "execution_count": null,
      "metadata": {
        "colab": {
          "background_save": true
        },
        "id": "442da0b7"
      },
      "outputs": [],
      "source": [
        "import pandas as pd\n",
        "# Assuming your DataFrame is named 'df'\n",
        "# Group the DataFrame by 'Currency' and calculate the total trading volume for each\n",
        "currency_total_volume = df.groupby('Currency')['Volume'].sum().reset_index()\n",
        "# Find the currency with the highest total trading volume\n",
        "most_traded_currency = currency_total_volume.loc[currency_total_volume['Volume'].id\n",
        "print(\"The most traded currency is:\", most_traded_currency['Currency'])\n",
        "print(\"Total trading volume:\", most_traded_currency['Volume'])"
      ],
      "id": "442da0b7"
    },
    {
      "cell_type": "markdown",
      "metadata": {
        "id": "848ae049"
      },
      "source": [
        "6,What is the correlation between the price and the volume?"
      ],
      "id": "848ae049"
    },
    {
      "cell_type": "code",
      "execution_count": null,
      "metadata": {
        "colab": {
          "background_save": true
        },
        "id": "113cbc17"
      },
      "outputs": [],
      "source": [
        "import pandas as pd\n",
        "# Assuming your DataFrame is named 'df'\n",
        "# Calculate the correlation between 'Close' price and 'Volume'\n",
        "correlation = df['Close'].corr(df['Volume'])\n",
        "print(\"Correlation between Close Price and Volume:\", correlation)"
      ],
      "id": "113cbc17"
    },
    {
      "cell_type": "markdown",
      "metadata": {
        "id": "cb3d4279"
      },
      "source": [
        "7,What is the correlation between the price and the market capitalization?"
      ],
      "id": "cb3d4279"
    },
    {
      "cell_type": "code",
      "execution_count": null,
      "metadata": {
        "colab": {
          "background_save": true
        },
        "id": "c0dc28c8"
      },
      "outputs": [],
      "source": [
        "import pandas as pd\n",
        "# Assuming your DataFrame is named 'df'\n",
        "# Calculate the correlation between 'Close' price and 'Market Cap'\n",
        "correlation = df['Close'].corr(df['Market Cap'])\n",
        "print(\"Correlation between Close Price and Market Capitalization:\", correlation)"
      ],
      "id": "c0dc28c8"
    },
    {
      "cell_type": "markdown",
      "metadata": {
        "id": "bffdee05"
      },
      "source": [
        "8,What is the overall trend in market capitalization over time? Can you identify any significant increases or decreases?"
      ],
      "id": "bffdee05"
    },
    {
      "cell_type": "code",
      "execution_count": null,
      "metadata": {
        "colab": {
          "background_save": true
        },
        "id": "1737418f"
      },
      "outputs": [],
      "source": [
        "import pandas as pd\n",
        "import matplotlib.pyplot as plt\n",
        "# Assuming df is your DataFrame\n",
        "# Convert 'Date' column to datetime\n",
        "df['Date'] = pd.to_datetime(df['Date'])\n",
        "# Convert 'Market Cap' column to float (ignore errors, which will convert non-numer\n",
        "df['Market Cap'] = pd.to_numeric(df['Market Cap'], errors='coerce')\n",
        "# Group data by date and calculate total market capitalization for each date\n",
        "market_cap_over_time = df.groupby('Date')['Market Cap'].sum()\n",
        "# Create a time series plot\n",
        "plt.figure(figsize=(12, 6))\n",
        "plt.plot(market_cap_over_time.index, market_cap_over_time.values)\n",
        "plt.xlabel('Date')\n",
        "plt.ylabel('Total Market Capitalization')\n",
        "plt.title('Trend in Total Market Capitalization Over Time')\n",
        "plt.grid(True)\n",
        "# Show the plot\n",
        "plt.show()"
      ],
      "id": "1737418f"
    },
    {
      "cell_type": "markdown",
      "metadata": {
        "id": "157c3a03"
      },
      "source": [
        "9,Are there any outliers in the volume column? If so, which currencies have the highest and lowest outlier volumes?"
      ],
      "id": "157c3a03"
    },
    {
      "cell_type": "code",
      "execution_count": null,
      "metadata": {
        "colab": {
          "background_save": true
        },
        "id": "dd852fb9"
      },
      "outputs": [],
      "source": [
        "import pandas as pd\n",
        "# Assuming df is your DataFrame with columns 'Currency' and 'Volume'\n",
        "# Calculate the first quartile (Q1) and third quartile (Q3)\n",
        "Q1 = df['Volume'].quantile(0.25)\n",
        "Q3 = df['Volume'].quantile(0.75)\n",
        "# Calculate the interquartile range (IQR)\n",
        "IQR = Q3 - Q1\n",
        "# Define a threshold for identifying outliers (e.g., 1.5 times the IQR)\n",
        "outlier_threshold = 1.5 * IQR\n",
        "# Identify outliers\n",
        "outliers = df[(df['Volume'] < Q1 - outlier_threshold) | (df['Volume'] > Q3 + outlie\n",
        "# Print currencies with the highest and lowest outlier volumes\n",
        "highest_outliers = outliers.sort_values('Volume', ascending=False)\n",
        "lowest_outliers = outliers.sort_values('Volume')\n",
        "print(\"Currencies with the Highest Outlier Volumes:\")\n",
        "print(highest_outliers[['Currency', 'Volume']])\n",
        "print(\"\\nCurrencies with the Lowest Outlier Volumes:\")\n",
        "print(lowest_outliers[['Currency', 'Volume']])"
      ],
      "id": "dd852fb9"
    },
    {
      "cell_type": "markdown",
      "metadata": {
        "id": "aad8ae16"
      },
      "source": [
        "10,How does the distribution of closing prices vary among different currencies? Can you identify any patterns or anomalies?"
      ],
      "id": "aad8ae16"
    },
    {
      "cell_type": "code",
      "execution_count": null,
      "metadata": {
        "colab": {
          "background_save": true
        },
        "id": "02d76005"
      },
      "outputs": [],
      "source": [
        "import pandas as pd\n",
        "import matplotlib.pyplot as plt\n",
        "import seaborn as sns\n",
        "# Assuming df is your DataFrame\n",
        "# Convert 'Close' column to float (if not already)\n",
        "df['Close'] = pd.to_numeric(df['Close'], errors='coerce')\n",
        "# Group data by 'Currency'\n",
        "grouped_data = df.groupby('Currency')\n",
        "# Create a list of currencies for analysis\n",
        "currencies_to_analyze = ['xrp', 'cardano', 'ethereum', 'litecoin', 'stellar',\n",
        "'bitcoin-cash', 'tether', 'bitcoin', 'eos', 'binance-coin',\n",
        "'tezos', 'bitcoin-sv'] # Replace with the actual currency names\n",
        "# Create subplots for visualization\n",
        "fig, axes = plt.subplots(len(currencies_to_analyze), 1, figsize=(10, 6 * len(curren\n",
        "# Iterate through currencies and create box/violin plots\n",
        "for i, currency in enumerate(currencies_to_analyze):\n",
        "data = grouped_data.get_group(currency)[['Close']] # Note the double brackets\n",
        "# Create a box plot\n",
        "sns.boxplot(data=data, ax=axes[i]) # Pass the DataFrame to sns.boxplot()\n",
        "axes[i].set_title(f'Distribution of Closing Prices for {currency}')\n",
        "# Adjust plot layout\n",
        "plt.tight_layout()\n",
        "# Show the plots\n",
        "plt.show()\n",
        "# Calculate summary statistics for each currency\n",
        "summary_statistics = grouped_data['Close'].describe()\n",
        "# Print summary statistics\n",
        "print(summary_statistics)"
      ],
      "id": "02d76005"
    },
    {
      "cell_type": "markdown",
      "metadata": {
        "id": "6a8165aa"
      },
      "source": [
        "11,There any correlation between the opening price and the closing price for each currency? Are there currencies that tend to close higher or lower than they open?"
      ],
      "id": "6a8165aa"
    },
    {
      "cell_type": "code",
      "execution_count": null,
      "metadata": {
        "colab": {
          "background_save": true
        },
        "id": "20cda560"
      },
      "outputs": [],
      "source": [
        "import pandas as pd\n",
        "# Assuming df is your DataFrame\n",
        "# Convert 'Open' and 'Close' columns to float (if not already)\n",
        "df['Open'] = pd.to_numeric(df['Open'], errors='coerce')\n",
        "df['Close'] = pd.to_numeric(df['Close'], errors='coerce')\n",
        "# Group data by 'Currency'\n",
        "grouped_data = df.groupby('Currency')\n",
        "# Calculate correlation between 'Open' and 'Close' for each currency\n",
        "correlations = grouped_data[['Open', 'Close']].corr().iloc[0::2, -1]\n",
        "# Identify currencies with positive and negative correlations\n",
        "positive_correlation_currencies = correlations[correlations > 0].index\n",
        "negative_correlation_currencies = correlations[correlations < 0].index\n",
        "# Print the results\n",
        "print(\"Currencies with a Positive Correlation (tend to close higher when they open)\n",
        "print(positive_correlation_currencies)\n",
        "print(\"\\nCurrencies with a Negative Correlation(tend to close lower when they open\n",
        "print(negative_correlation_currencies)"
      ],
      "id": "20cda560"
    },
    {
      "cell_type": "markdown",
      "metadata": {
        "id": "39e5b60d"
      },
      "source": [
        "12,What is the relationship between the daily trading volume and the closing price for each currency? Are there currencies with higher volumes that tend to have higher or lower closing prices?"
      ],
      "id": "39e5b60d"
    },
    {
      "cell_type": "code",
      "execution_count": null,
      "metadata": {
        "colab": {
          "background_save": true
        },
        "id": "8d6029a0"
      },
      "outputs": [],
      "source": [
        "import pandas as pd\n",
        "# Assuming df is your DataFrame\n",
        "# Convert 'Volume' and 'Close' columns to float (if not already)\n",
        "df['Volume'] = pd.to_numeric(df['Volume'], errors='coerce')\n",
        "df['Close'] = pd.to_numeric(df['Close'], errors='coerce')\n",
        "# Group data by 'Currency'\n",
        "grouped_data = df.groupby('Currency')\n",
        "# Calculate correlation between 'Volume' and 'Close' for each currency\n",
        "correlations = grouped_data[['Volume', 'Close']].corr().iloc[::2, 1]\n",
        "# Identify currencies with positive and negative correlations\n",
        "positive_correlation_currencies = correlations[correlations > 0].index\n",
        "negative_correlation_currencies = correlations[correlations < 0].index\n",
        "# Print the results\n",
        "print(\"Currencies with a Positive Correlation (tend to have higher closing prices w\n",
        "print(positive_correlation_currencies)\n",
        "print(\"\\nCurrencies with a Negative Correlation (tend to have lower closing prices\n",
        "print(negative_correlation_currencies)"
      ],
      "id": "8d6029a0"
    },
    {
      "cell_type": "markdown",
      "metadata": {
        "id": "d49ddddc"
      },
      "source": [
        "**Bivariate Analysis**"
      ],
      "id": "d49ddddc"
    },
    {
      "cell_type": "markdown",
      "metadata": {
        "id": "cd886a47"
      },
      "source": [
        "Bivariate analysis is a statistical method that studies data with two variables to determine if there is a relationship between them. It is one of the simplest forms of statistical analysis"
      ],
      "id": "cd886a47"
    },
    {
      "cell_type": "markdown",
      "metadata": {
        "id": "b40fa8e1"
      },
      "source": [
        "1,How are the columns correlated with each other? Which columns have strong positive or negative correlations? How can you visualize the correlation matrix using a heatmap?"
      ],
      "id": "b40fa8e1"
    },
    {
      "cell_type": "code",
      "execution_count": null,
      "metadata": {
        "colab": {
          "background_save": true
        },
        "id": "81e55cb0"
      },
      "outputs": [],
      "source": [
        "import pandas as pd\n",
        "import seaborn as sns\n",
        "import matplotlib.pyplot as plt\n",
        "# Assuming you already have your DataFrame 'df'\n",
        "# Convert numerical columns to the appropriate data types\n",
        "numerical_columns = ['Open', 'High', 'Low', 'Close', 'Volume', 'Market Cap']\n",
        "df[numerical_columns] = df[numerical_columns].apply(pd.to_numeric, errors='coerce')\n",
        "# Calculate the correlation matrix\n",
        "correlation_matrix = df[numerical_columns].corr()\n",
        "# Create a heatmap to visualize the correlations\n",
        "plt.figure(figsize=(10, 8))\n",
        "sns.heatmap(correlation_matrix, annot=True, cmap='coolwarm', linewidths=0.5, fmt=\".\n",
        "plt.title(\"Correlation Matrix Heatmap\")\n",
        "plt.show()"
      ],
      "id": "81e55cb0"
    },
    {
      "cell_type": "markdown",
      "metadata": {
        "id": "bba746e9"
      },
      "source": [
        "2,How does the target variable (Volume ) vary with respect to the other variables? Which variables have significant impact on the Volume? How can you visualize the relationship using scatter plots, line plots, or violin plots?"
      ],
      "id": "bba746e9"
    },
    {
      "cell_type": "code",
      "execution_count": null,
      "metadata": {
        "colab": {
          "background_save": true
        },
        "id": "e98bd038"
      },
      "outputs": [],
      "source": [
        "import seaborn as sns\n",
        "import matplotlib.pyplot as plt\n",
        "# Assuming your DataFrame is named 'df'\n",
        "# Scatter plot for 'Open' vs 'Volume'\n",
        "sns.scatterplot(data=df, x='Open', y='Volume')\n",
        "plt.title('Scatter Plot: Open vs Volume')\n",
        "plt.show()\n",
        "# Line plot for 'Date' vs 'Volume' (assuming 'Date' is in datetime format)\n",
        "sns.lineplot(data=df, x='Date', y='Volume')\n",
        "plt.title('Time Series: Volume over Time')\n",
        "plt.xticks(rotation=45) # Rotate x-axis labels for better readability\n",
        "plt.show()\n",
        "# Violin plot for 'Currency' vs 'Volume'\n",
        "sns.violinplot(data=df, x='Currency', y='Volume')\n",
        "plt.title('Violin Plot: Currency vs Volume')\n",
        "plt.xticks(rotation=45) # Rotate x-axis labels for better readability\n",
        "plt.show()"
      ],
      "id": "e98bd038"
    },
    {
      "cell_type": "markdown",
      "metadata": {
        "id": "b0404740"
      },
      "source": [
        "3,How does the data vary across different currencies? Which currencies have the highest or lowest values for each column?"
      ],
      "id": "b0404740"
    },
    {
      "cell_type": "code",
      "execution_count": null,
      "metadata": {
        "colab": {
          "background_save": true
        },
        "id": "f2e5030b"
      },
      "outputs": [],
      "source": [
        "import pandas as pd\n",
        "# Assuming your DataFrame is named 'df'\n",
        "# Group the DataFrame by 'Currency'\n",
        "grouped = df.groupby('Currency')\n",
        "# Define the columns you want to analyze\n",
        "columns_to_analyze = ['Open', 'High', 'Low', 'Close', 'Volume', 'Market Cap']\n",
        "# Initialize dictionaries to store results\n",
        "highest_values = {}\n",
        "lowest_values = {}\n",
        "# Calculate summary statistics for each column within each currency group\n",
        "for col in columns_to_analyze:\n",
        "highest_values[col] = grouped[col].max()\n",
        "lowest_values[col] = grouped[col].min()\n",
        "# Convert the dictionaries to DataFrames for easy visualization\n",
        "highest_values_df = pd.DataFrame(highest_values)\n",
        "lowest_values_df = pd.DataFrame(lowest_values)\n",
        "# Display currencies with the highest and lowest values for each column\n",
        "print(\"Currencies with the Highest Values:\")\n",
        "print(highest_values_df)\n",
        "print(\"\\nCurrencies with the Lowest Values:\")\n",
        "print(lowest_values_df)"
      ],
      "id": "f2e5030b"
    },
    {
      "cell_type": "markdown",
      "metadata": {
        "id": "b7d1f44a"
      },
      "source": [
        "4,What is the relationship between the daily trading volume and the closing price for each currency? Are there currencies with higher volumes that tend to have higher or lower closing prices?"
      ],
      "id": "b7d1f44a"
    },
    {
      "cell_type": "code",
      "execution_count": null,
      "metadata": {
        "colab": {
          "background_save": true
        },
        "id": "5c0fe2cd"
      },
      "outputs": [],
      "source": [
        "import pandas as pd\n",
        "# Assuming df is your DataFrame\n",
        "# Convert 'Volume' and 'Close' columns to float (if not already)\n",
        "df['Volume'] = pd.to_numeric(df['Volume'], errors='coerce')\n",
        "df['Close'] = pd.to_numeric(df['Close'], errors='coerce')\n",
        "# Group data by 'Currency'\n",
        "grouped_data = df.groupby('Currency')\n",
        "# Calculate correlation between 'Volume' and 'Close' for each currency\n",
        "correlations = grouped_data[['Volume', 'Close']].corr().iloc[::2, 1]\n",
        "# Identify currencies with positive and negative correlations\n",
        "positive_correlation_currencies = correlations[correlations > 0].index\n",
        "negative_correlation_currencies = correlations[correlations < 0].index\n",
        "# Print the results\n",
        "print(\"Currencies with a Positive Correlation (tend to have higher closing prices w\n",
        "print(positive_correlation_currencies)\n",
        "print(\"\\nCurrencies with a Negative Correlation (tend to have lower closing prices\n",
        "print(negative_correlation_currencies)"
      ],
      "id": "5c0fe2cd"
    },
    {
      "cell_type": "markdown",
      "metadata": {
        "id": "554e6c91"
      },
      "source": [
        "5,Is there a relationship between the daily trading volume and the daily price fluctuation (High - Low) for each currency?"
      ],
      "id": "554e6c91"
    },
    {
      "cell_type": "code",
      "execution_count": null,
      "metadata": {
        "colab": {
          "background_save": true
        },
        "id": "bc57750d"
      },
      "outputs": [],
      "source": [
        "import pandas as pd\n",
        "# Assuming df is your DataFrame\n",
        "# Convert 'Volume', 'High', and 'Low' columns to float (if not already)\n",
        "df['Volume'] = pd.to_numeric(df['Volume'], errors='coerce')\n",
        "df['High'] = pd.to_numeric(df['High'], errors='coerce')\n",
        "df['Low'] = pd.to_numeric(df['Low'], errors='coerce')\n",
        "# Group data by 'Currency'\n",
        "grouped_data = df.groupby('Currency')\n",
        "# Initialize lists to store correlation coefficients and currencies\n",
        "currency_names = []\n",
        "correlation_coefficients = []\n",
        "# Loop through currency groups and calculate correlations\n",
        "for currency, group in grouped_data:\n",
        "currency_names.append(currency)\n",
        "correlation = group['Volume'].corr(group['High'] - group['Low'])\n",
        "correlation_coefficients.append(correlation)\n",
        "# Create a DataFrame to store the results\n",
        "correlation_df = pd.DataFrame({\n",
        "'Currency': currency_names,\n",
        "'Correlation (Volume vs. High-Low)': correlation_coefficients\n",
        "})\n",
        "# Identify currencies with strong positive or negative correlations\n",
        "strong_positive_correlations = correlation_df[correlation_df['Correlation (Volume v\n",
        "strong_negative_correlations = correlation_df[correlation_df['Correlation (Volume v\n",
        "# Display the correlation results\n",
        "print(\"Correlation Between Daily Trading Volume and Daily Price Fluctuation (High -\n",
        "print(correlation_df)\n",
        "print(\"\\nCurrencies with Strong Positive Correlations:\")\n",
        "print(strong_positive_correlations)\n",
        "print(\"\\nCurrencies with Strong Negative Correlations:\")\n",
        "print(strong_negative_correlations)"
      ],
      "id": "bc57750d"
    },
    {
      "cell_type": "markdown",
      "metadata": {
        "id": "0805e21e"
      },
      "source": [
        "**MultiVariate Analysis**"
      ],
      "id": "0805e21e"
    },
    {
      "cell_type": "markdown",
      "metadata": {
        "id": "c6142d52"
      },
      "source": [
        "Multivariate analysis (MVA) involves evaluating multiple variables (more than two) to identify any possible association among them"
      ],
      "id": "c6142d52"
    },
    {
      "cell_type": "code",
      "execution_count": null,
      "metadata": {
        "colab": {
          "background_save": true
        },
        "id": "18885bb1"
      },
      "outputs": [],
      "source": [
        "sns.pairplot(df[ ['Open', 'High', 'Low', 'Close', 'Volume', 'Market Cap']])\n",
        "plt.show()\n"
      ],
      "id": "18885bb1"
    },
    {
      "cell_type": "markdown",
      "metadata": {
        "id": "3d8d66ec"
      },
      "source": [
        "**Outlier Detection**"
      ],
      "id": "3d8d66ec"
    },
    {
      "cell_type": "code",
      "execution_count": null,
      "metadata": {
        "colab": {
          "background_save": true
        },
        "id": "41b5b9d5"
      },
      "outputs": [],
      "source": [
        "#check it\n",
        "import pandas as pd\n",
        "# Assuming df is your DataFrame with columns 'Currency' and 'Volume'\n",
        "# Calculate the first quartile (Q1) and third quartile (Q3)\n",
        "Q1 = df['Volume'].quantile(0.25)\n",
        "Q3 = df['Volume'].quantile(0.75)\n",
        "# Calculate the interquartile range (IQR)\n",
        "IQR = Q3 - Q1\n",
        "# Define a threshold for identifying outliers (e.g., 1.5 times the IQR)\n",
        "outlier_threshold = 1.5 * IQR\n",
        "# Identify outliers\n",
        "outliers = df[(df['Volume'] < Q1 - outlier_threshold) | (df['Volume'] > Q3 + outlie\n",
        "# Print currencies with the highest and lowest outlier volumes\n",
        "highest_outliers = outliers.sort_values('Volume', ascending=False)\n",
        "lowest_outliers = outliers.sort_values('Volume')\n",
        "print(\"Currencies with the Highest Outlier Volumes:\")\n",
        "print(highest_outliers[['Currency', 'Volume']])\n",
        "print(\"\\nCurrencies with the Lowest Outlier Volumes:\")\n",
        "print(lowest_outliers[['Currency', 'Volume']])"
      ],
      "id": "41b5b9d5"
    },
    {
      "cell_type": "markdown",
      "metadata": {
        "id": "8c7f3c25"
      },
      "source": [
        "**Hypothesis Testing**"
      ],
      "id": "8c7f3c25"
    },
    {
      "cell_type": "markdown",
      "metadata": {
        "id": "05824548"
      },
      "source": [
        "Correlation between market cap and high"
      ],
      "id": "05824548"
    },
    {
      "cell_type": "markdown",
      "metadata": {
        "id": "b78c0854"
      },
      "source": [
        "1.\n",
        "Null hypothesis (H0): There is no significant correlation between market cap and high.\n",
        "\n",
        "Alternative hypothesis (Ha): There is a significant positive correlation between market cap and high.\n",
        "\n",
        "and the result of the Hypothesis is\n",
        "\n",
        "The Pearson correlation coefficient is 0.954 The p-value is 0.05\n",
        "We can reject the null hypothesis and accept the alternative hypothesis. There is a significant positive correlation between market cap and high.\n",
        "\n",
        "there is a significant positive correlation between ‘Market Cap’ and ‘High’. The Pearson correlation coefficient is 0.954, and the p-value is 0.05. Again, this leads us to reject the null hypothesis and accept the alternative hypothesis.\n"
      ],
      "id": "b78c0854"
    },
    {
      "cell_type": "code",
      "execution_count": null,
      "metadata": {
        "colab": {
          "background_save": true
        },
        "id": "67e736b3"
      },
      "outputs": [],
      "source": [
        "# Import the scipy.stats module\n",
        "import scipy.stats as stats\n",
        "\n",
        "# Extract the market cap and high columns from the dataframe\n",
        "market_cap = df[\"Market Cap\"]\n",
        "high = df[\"High\"]\n",
        "\n",
        "# Calculate the Pearson correlation coefficient and the p-value\n",
        "corr, p_value = stats.pearsonr(market_cap, high)\n",
        "\n",
        "# Print the results\n",
        "print(f\"The Pearson correlation coefficient is {corr:.3f}\")\n",
        "print(f\"The p-value is {p_value:.3f}\")\n",
        "\n",
        "# Interpret the results\n",
        "if p_value < 0.05:\n",
        "    print(\"We can reject the null hypothesis and accept the alternative hypothesis.\")\n",
        "    print(\"There is a significant positive correlation between market cap and high.\")\n",
        "else:\n",
        "    print(\"We cannot reject the null hypothesis.\")\n",
        "    print(\"There is no significant correlation between market cap and high.\")"
      ],
      "id": "67e736b3"
    },
    {
      "cell_type": "markdown",
      "metadata": {
        "id": "be69e838"
      },
      "source": [
        "Correlation between Market Cap and Low"
      ],
      "id": "be69e838"
    },
    {
      "cell_type": "markdown",
      "metadata": {
        "id": "90a57d23"
      },
      "source": [
        "2, Null hypothesis (H0): There is no significant correlation between market cap and Low.\n",
        "\n",
        "Alternative hypothesis (Ha): There is a significant positive correlation between market cap and Low. Pearson correlation: 0.983\n",
        "t-statistic: 37.900\n",
        "p-\tvalue: 0.05\n",
        "\n",
        "There is a significant positive correlation between market cap and Low (reject H0) and\n",
        "Null hypothesis (H0): There is no significant correlation between market cap and high\n",
        "\n",
        "\n",
        "•\tThere is a significant positive correlation between ‘Market Cap’ and ‘Low’. The Pearson correlation coefficient is 0.983, and the p-value is 0.05, which is less than the commonly used significance level of 0.05.\n",
        "This means we reject the null hypothesis and accept the alternative hypothesis.\n"
      ],
      "id": "90a57d23"
    },
    {
      "cell_type": "code",
      "execution_count": null,
      "metadata": {
        "colab": {
          "background_save": true
        },
        "id": "d642ac96"
      },
      "outputs": [],
      "source": [
        "import pandas as pd\n",
        "from scipy import stats\n",
        "\n",
        "# Assuming df is your DataFrame and it has been loaded properly\n",
        "# df = pd.read_csv('yourfile.csv')\n",
        "\n",
        "# Calculate the correlation coefficient\n",
        "correlation, _ = stats.pearsonr(df['Market Cap'], df['Low'])\n",
        "\n",
        "print('Pearson correlation: %.3f' % correlation)\n",
        "\n",
        "# Perform a t-test\n",
        "t_stat, p_val = stats.ttest_ind(df['Market Cap'], df['Low'])\n",
        "\n",
        "print('t-statistic: %.3f' % t_stat)\n",
        "print('p-value: %.3f' % p_val)\n",
        "\n",
        "# Interpret the p-value\n",
        "alpha = 0.05\n",
        "if p_val < alpha:\n",
        "    print('There is a significant positive correlation between market cap and Low (reject H0)')\n",
        "else:\n",
        "    print('There is no significant correlation between market cap and Low (fail to reject H0)')"
      ],
      "id": "d642ac96"
    },
    {
      "cell_type": "markdown",
      "metadata": {
        "id": "8beeb80e"
      },
      "source": [
        "In conclusion, both ‘Low’ and ‘High’ have a significant positive correlation with ‘Market Cap’. This suggests that as the market cap increases, both the low and high values tend to increase as well. However, correlation does not imply causation, and further investigation may be needed to understand the underlying factors driving these relationships"
      ],
      "id": "8beeb80e"
    },
    {
      "cell_type": "markdown",
      "metadata": {
        "id": "91305bd8"
      },
      "source": [
        "**Conclusion**"
      ],
      "id": "91305bd8"
    },
    {
      "cell_type": "code",
      "execution_count": null,
      "metadata": {
        "colab": {
          "background_save": true
        },
        "id": "5ae8deba"
      },
      "outputs": [],
      "source": [
        "In this analysis, we explored a dataset containing cryptocurrency market data, focusing on various aspects such as summary statistics, correlations, distributions, trends, outliers, and relationships between variables.\n",
        "\n",
        "We found that the opening prices have a strong positive correlation with trading volume, suggesting that higher opening prices often lead to higher trading volumes. Additionally, some currencies exhibit negative correlations between volume and price fluctuations (High - Low), indicating that higher volumes may result in smaller price fluctuations.\n",
        "\n",
        "The total market capitalization showed a relatively stable trend over time, with no significant increases or decreases observed. However, individual currencies displayed varying price trends, with some reaching their highest prices in specific years.\n",
        "\n",
        "Outliers were detected in both the volume and closing price columns, particularly for cryptocurrencies like Bitcoin Cash, Litecoin, Ethereum, and Tether. These anomalies may be of interest for further investigation.\n",
        "\n",
        "For future analysis and improvement, we can consider the following:\n",
        "\n",
        "Continuously update the dataset to include more recent data to identify evolving trends and patterns in the cryptocurrency market.\n",
        "\n",
        "Conduct deeper research into the outliers and anomalies to understand the reasons behind extreme values\n",
        "\n"
      ],
      "id": "5ae8deba"
    }
  ],
  "metadata": {
    "colab": {
      "provenance": []
    },
    "kernelspec": {
      "display_name": "Python 3 (ipykernel)",
      "language": "python",
      "name": "python3"
    },
    "language_info": {
      "codemirror_mode": {
        "name": "ipython",
        "version": 3
      },
      "file_extension": ".py",
      "mimetype": "text/x-python",
      "name": "python",
      "nbconvert_exporter": "python",
      "pygments_lexer": "ipython3",
      "version": "3.9.13"
    }
  },
  "nbformat": 4,
  "nbformat_minor": 5
}